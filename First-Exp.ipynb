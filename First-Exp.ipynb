{
 "cells": [
  {
   "cell_type": "code",
   "execution_count": 18,
   "metadata": {
    "collapsed": true
   },
   "outputs": [],
   "source": [
    "import os\n",
    "import random\n",
    "\n",
    "import numpy as np\n",
    "import pandas as pd\n",
    "import matplotlib.pyplot as plt\n",
    "%matplotlib inline"
   ]
  },
  {
   "cell_type": "code",
   "execution_count": 2,
   "metadata": {
    "collapsed": true
   },
   "outputs": [],
   "source": [
    "particles_df = pd.read_csv('datasets/unarch/train_100_events/event000001000-particles.csv')\n",
    "hits_df = pd.read_csv('datasets/unarch/train_100_events/event000001000-hits.csv')\n",
    "cells_df = pd.read_csv('datasets/unarch/train_100_events/event000001000-cells.csv')\n",
    "truth_df = pd.read_csv('datasets/unarch/train_100_events/event000001000-truth.csv')"
   ]
  },
  {
   "cell_type": "code",
   "execution_count": 3,
   "metadata": {},
   "outputs": [
    {
     "name": "stdout",
     "output_type": "stream",
     "text": [
      "(12263, 9)\n"
     ]
    },
    {
     "data": {
      "text/html": [
       "<div>\n",
       "<style>\n",
       "    .dataframe thead tr:only-child th {\n",
       "        text-align: right;\n",
       "    }\n",
       "\n",
       "    .dataframe thead th {\n",
       "        text-align: left;\n",
       "    }\n",
       "\n",
       "    .dataframe tbody tr th {\n",
       "        vertical-align: top;\n",
       "    }\n",
       "</style>\n",
       "<table border=\"1\" class=\"dataframe\">\n",
       "  <thead>\n",
       "    <tr style=\"text-align: right;\">\n",
       "      <th></th>\n",
       "      <th>particle_id</th>\n",
       "      <th>vx</th>\n",
       "      <th>vy</th>\n",
       "      <th>vz</th>\n",
       "      <th>px</th>\n",
       "      <th>py</th>\n",
       "      <th>pz</th>\n",
       "      <th>q</th>\n",
       "      <th>nhits</th>\n",
       "    </tr>\n",
       "  </thead>\n",
       "  <tbody>\n",
       "    <tr>\n",
       "      <th>0</th>\n",
       "      <td>4503668346847232</td>\n",
       "      <td>-0.009288</td>\n",
       "      <td>0.009861</td>\n",
       "      <td>-0.077879</td>\n",
       "      <td>-0.055269</td>\n",
       "      <td>0.323272</td>\n",
       "      <td>-0.203492</td>\n",
       "      <td>-1</td>\n",
       "      <td>8</td>\n",
       "    </tr>\n",
       "    <tr>\n",
       "      <th>1</th>\n",
       "      <td>4503737066323968</td>\n",
       "      <td>-0.009288</td>\n",
       "      <td>0.009861</td>\n",
       "      <td>-0.077879</td>\n",
       "      <td>-0.948125</td>\n",
       "      <td>0.470892</td>\n",
       "      <td>2.010060</td>\n",
       "      <td>1</td>\n",
       "      <td>11</td>\n",
       "    </tr>\n",
       "    <tr>\n",
       "      <th>2</th>\n",
       "      <td>4503805785800704</td>\n",
       "      <td>-0.009288</td>\n",
       "      <td>0.009861</td>\n",
       "      <td>-0.077879</td>\n",
       "      <td>-0.886484</td>\n",
       "      <td>0.105749</td>\n",
       "      <td>0.683881</td>\n",
       "      <td>-1</td>\n",
       "      <td>0</td>\n",
       "    </tr>\n",
       "    <tr>\n",
       "      <th>3</th>\n",
       "      <td>4503874505277440</td>\n",
       "      <td>-0.009288</td>\n",
       "      <td>0.009861</td>\n",
       "      <td>-0.077879</td>\n",
       "      <td>0.257539</td>\n",
       "      <td>-0.676718</td>\n",
       "      <td>0.991616</td>\n",
       "      <td>1</td>\n",
       "      <td>12</td>\n",
       "    </tr>\n",
       "  </tbody>\n",
       "</table>\n",
       "</div>"
      ],
      "text/plain": [
       "        particle_id        vx        vy        vz        px        py  \\\n",
       "0  4503668346847232 -0.009288  0.009861 -0.077879 -0.055269  0.323272   \n",
       "1  4503737066323968 -0.009288  0.009861 -0.077879 -0.948125  0.470892   \n",
       "2  4503805785800704 -0.009288  0.009861 -0.077879 -0.886484  0.105749   \n",
       "3  4503874505277440 -0.009288  0.009861 -0.077879  0.257539 -0.676718   \n",
       "\n",
       "         pz  q  nhits  \n",
       "0 -0.203492 -1      8  \n",
       "1  2.010060  1     11  \n",
       "2  0.683881 -1      0  \n",
       "3  0.991616  1     12  "
      ]
     },
     "execution_count": 3,
     "metadata": {},
     "output_type": "execute_result"
    }
   ],
   "source": [
    "print(particles_df.shape)\n",
    "particles_df.head(4)"
   ]
  },
  {
   "cell_type": "code",
   "execution_count": 4,
   "metadata": {},
   "outputs": [
    {
     "name": "stdout",
     "output_type": "stream",
     "text": [
      "(120939, 7)\n"
     ]
    },
    {
     "data": {
      "text/html": [
       "<div>\n",
       "<style>\n",
       "    .dataframe thead tr:only-child th {\n",
       "        text-align: right;\n",
       "    }\n",
       "\n",
       "    .dataframe thead th {\n",
       "        text-align: left;\n",
       "    }\n",
       "\n",
       "    .dataframe tbody tr th {\n",
       "        vertical-align: top;\n",
       "    }\n",
       "</style>\n",
       "<table border=\"1\" class=\"dataframe\">\n",
       "  <thead>\n",
       "    <tr style=\"text-align: right;\">\n",
       "      <th></th>\n",
       "      <th>hit_id</th>\n",
       "      <th>x</th>\n",
       "      <th>y</th>\n",
       "      <th>z</th>\n",
       "      <th>volume_id</th>\n",
       "      <th>layer_id</th>\n",
       "      <th>module_id</th>\n",
       "    </tr>\n",
       "  </thead>\n",
       "  <tbody>\n",
       "    <tr>\n",
       "      <th>0</th>\n",
       "      <td>1</td>\n",
       "      <td>-64.4099</td>\n",
       "      <td>-7.163700</td>\n",
       "      <td>-1502.5</td>\n",
       "      <td>7</td>\n",
       "      <td>2</td>\n",
       "      <td>1</td>\n",
       "    </tr>\n",
       "    <tr>\n",
       "      <th>1</th>\n",
       "      <td>2</td>\n",
       "      <td>-55.3361</td>\n",
       "      <td>0.635342</td>\n",
       "      <td>-1502.5</td>\n",
       "      <td>7</td>\n",
       "      <td>2</td>\n",
       "      <td>1</td>\n",
       "    </tr>\n",
       "    <tr>\n",
       "      <th>2</th>\n",
       "      <td>3</td>\n",
       "      <td>-83.8305</td>\n",
       "      <td>-1.143010</td>\n",
       "      <td>-1502.5</td>\n",
       "      <td>7</td>\n",
       "      <td>2</td>\n",
       "      <td>1</td>\n",
       "    </tr>\n",
       "    <tr>\n",
       "      <th>3</th>\n",
       "      <td>4</td>\n",
       "      <td>-96.1091</td>\n",
       "      <td>-8.241030</td>\n",
       "      <td>-1502.5</td>\n",
       "      <td>7</td>\n",
       "      <td>2</td>\n",
       "      <td>1</td>\n",
       "    </tr>\n",
       "  </tbody>\n",
       "</table>\n",
       "</div>"
      ],
      "text/plain": [
       "   hit_id        x         y       z  volume_id  layer_id  module_id\n",
       "0       1 -64.4099 -7.163700 -1502.5          7         2          1\n",
       "1       2 -55.3361  0.635342 -1502.5          7         2          1\n",
       "2       3 -83.8305 -1.143010 -1502.5          7         2          1\n",
       "3       4 -96.1091 -8.241030 -1502.5          7         2          1"
      ]
     },
     "execution_count": 4,
     "metadata": {},
     "output_type": "execute_result"
    }
   ],
   "source": [
    "print(hits_df.shape)\n",
    "hits_df.head(4)"
   ]
  },
  {
   "cell_type": "code",
   "execution_count": 5,
   "metadata": {},
   "outputs": [
    {
     "name": "stdout",
     "output_type": "stream",
     "text": [
      "(664996, 4)\n"
     ]
    },
    {
     "data": {
      "text/html": [
       "<div>\n",
       "<style>\n",
       "    .dataframe thead tr:only-child th {\n",
       "        text-align: right;\n",
       "    }\n",
       "\n",
       "    .dataframe thead th {\n",
       "        text-align: left;\n",
       "    }\n",
       "\n",
       "    .dataframe tbody tr th {\n",
       "        vertical-align: top;\n",
       "    }\n",
       "</style>\n",
       "<table border=\"1\" class=\"dataframe\">\n",
       "  <thead>\n",
       "    <tr style=\"text-align: right;\">\n",
       "      <th></th>\n",
       "      <th>hit_id</th>\n",
       "      <th>ch0</th>\n",
       "      <th>ch1</th>\n",
       "      <th>value</th>\n",
       "    </tr>\n",
       "  </thead>\n",
       "  <tbody>\n",
       "    <tr>\n",
       "      <th>0</th>\n",
       "      <td>1</td>\n",
       "      <td>209</td>\n",
       "      <td>617</td>\n",
       "      <td>0.013832</td>\n",
       "    </tr>\n",
       "    <tr>\n",
       "      <th>1</th>\n",
       "      <td>1</td>\n",
       "      <td>210</td>\n",
       "      <td>617</td>\n",
       "      <td>0.079887</td>\n",
       "    </tr>\n",
       "    <tr>\n",
       "      <th>2</th>\n",
       "      <td>1</td>\n",
       "      <td>209</td>\n",
       "      <td>618</td>\n",
       "      <td>0.211723</td>\n",
       "    </tr>\n",
       "    <tr>\n",
       "      <th>3</th>\n",
       "      <td>2</td>\n",
       "      <td>68</td>\n",
       "      <td>446</td>\n",
       "      <td>0.334087</td>\n",
       "    </tr>\n",
       "  </tbody>\n",
       "</table>\n",
       "</div>"
      ],
      "text/plain": [
       "   hit_id  ch0  ch1     value\n",
       "0       1  209  617  0.013832\n",
       "1       1  210  617  0.079887\n",
       "2       1  209  618  0.211723\n",
       "3       2   68  446  0.334087"
      ]
     },
     "execution_count": 5,
     "metadata": {},
     "output_type": "execute_result"
    }
   ],
   "source": [
    "print(cells_df.shape)\n",
    "cells_df.head(4)"
   ]
  },
  {
   "cell_type": "code",
   "execution_count": 6,
   "metadata": {},
   "outputs": [
    {
     "name": "stdout",
     "output_type": "stream",
     "text": [
      "(120939, 9)\n"
     ]
    },
    {
     "data": {
      "text/html": [
       "<div>\n",
       "<style>\n",
       "    .dataframe thead tr:only-child th {\n",
       "        text-align: right;\n",
       "    }\n",
       "\n",
       "    .dataframe thead th {\n",
       "        text-align: left;\n",
       "    }\n",
       "\n",
       "    .dataframe tbody tr th {\n",
       "        vertical-align: top;\n",
       "    }\n",
       "</style>\n",
       "<table border=\"1\" class=\"dataframe\">\n",
       "  <thead>\n",
       "    <tr style=\"text-align: right;\">\n",
       "      <th></th>\n",
       "      <th>hit_id</th>\n",
       "      <th>particle_id</th>\n",
       "      <th>tx</th>\n",
       "      <th>ty</th>\n",
       "      <th>tz</th>\n",
       "      <th>tpx</th>\n",
       "      <th>tpy</th>\n",
       "      <th>tpz</th>\n",
       "      <th>weight</th>\n",
       "    </tr>\n",
       "  </thead>\n",
       "  <tbody>\n",
       "    <tr>\n",
       "      <th>0</th>\n",
       "      <td>1</td>\n",
       "      <td>0</td>\n",
       "      <td>-64.4116</td>\n",
       "      <td>-7.164120</td>\n",
       "      <td>-1502.5</td>\n",
       "      <td>250710.000000</td>\n",
       "      <td>-149908.000000</td>\n",
       "      <td>-956385.00000</td>\n",
       "      <td>0.000000</td>\n",
       "    </tr>\n",
       "    <tr>\n",
       "      <th>1</th>\n",
       "      <td>2</td>\n",
       "      <td>22525763437723648</td>\n",
       "      <td>-55.3385</td>\n",
       "      <td>0.630805</td>\n",
       "      <td>-1502.5</td>\n",
       "      <td>-0.570605</td>\n",
       "      <td>0.028390</td>\n",
       "      <td>-15.49220</td>\n",
       "      <td>0.000010</td>\n",
       "    </tr>\n",
       "    <tr>\n",
       "      <th>2</th>\n",
       "      <td>3</td>\n",
       "      <td>0</td>\n",
       "      <td>-83.8280</td>\n",
       "      <td>-1.145580</td>\n",
       "      <td>-1502.5</td>\n",
       "      <td>626295.000000</td>\n",
       "      <td>-169767.000000</td>\n",
       "      <td>-760877.00000</td>\n",
       "      <td>0.000000</td>\n",
       "    </tr>\n",
       "    <tr>\n",
       "      <th>3</th>\n",
       "      <td>4</td>\n",
       "      <td>297237712845406208</td>\n",
       "      <td>-96.1229</td>\n",
       "      <td>-8.230360</td>\n",
       "      <td>-1502.5</td>\n",
       "      <td>-0.225235</td>\n",
       "      <td>-0.050968</td>\n",
       "      <td>-3.70232</td>\n",
       "      <td>0.000008</td>\n",
       "    </tr>\n",
       "  </tbody>\n",
       "</table>\n",
       "</div>"
      ],
      "text/plain": [
       "   hit_id         particle_id       tx        ty      tz            tpx  \\\n",
       "0       1                   0 -64.4116 -7.164120 -1502.5  250710.000000   \n",
       "1       2   22525763437723648 -55.3385  0.630805 -1502.5      -0.570605   \n",
       "2       3                   0 -83.8280 -1.145580 -1502.5  626295.000000   \n",
       "3       4  297237712845406208 -96.1229 -8.230360 -1502.5      -0.225235   \n",
       "\n",
       "             tpy           tpz    weight  \n",
       "0 -149908.000000 -956385.00000  0.000000  \n",
       "1       0.028390     -15.49220  0.000010  \n",
       "2 -169767.000000 -760877.00000  0.000000  \n",
       "3      -0.050968      -3.70232  0.000008  "
      ]
     },
     "execution_count": 6,
     "metadata": {},
     "output_type": "execute_result"
    }
   ],
   "source": [
    "print(truth_df.shape)\n",
    "truth_df.head(4)"
   ]
  },
  {
   "cell_type": "code",
   "execution_count": 7,
   "metadata": {
    "collapsed": true
   },
   "outputs": [],
   "source": [
    "detectors_df = pd.read_csv('datasets/unarch/detectors.csv')"
   ]
  },
  {
   "cell_type": "code",
   "execution_count": 8,
   "metadata": {},
   "outputs": [
    {
     "name": "stdout",
     "output_type": "stream",
     "text": [
      "(18728, 21)\n"
     ]
    },
    {
     "data": {
      "text/html": [
       "<div>\n",
       "<style>\n",
       "    .dataframe thead tr:only-child th {\n",
       "        text-align: right;\n",
       "    }\n",
       "\n",
       "    .dataframe thead th {\n",
       "        text-align: left;\n",
       "    }\n",
       "\n",
       "    .dataframe tbody tr th {\n",
       "        vertical-align: top;\n",
       "    }\n",
       "</style>\n",
       "<table border=\"1\" class=\"dataframe\">\n",
       "  <thead>\n",
       "    <tr style=\"text-align: right;\">\n",
       "      <th></th>\n",
       "      <th>volume_id</th>\n",
       "      <th>layer_id</th>\n",
       "      <th>module_id</th>\n",
       "      <th>cx</th>\n",
       "      <th>cy</th>\n",
       "      <th>cz</th>\n",
       "      <th>rot_xu</th>\n",
       "      <th>rot_xv</th>\n",
       "      <th>rot_xw</th>\n",
       "      <th>rot_yu</th>\n",
       "      <th>...</th>\n",
       "      <th>rot_yw</th>\n",
       "      <th>rot_zu</th>\n",
       "      <th>rot_zv</th>\n",
       "      <th>rot_zw</th>\n",
       "      <th>module_t</th>\n",
       "      <th>module_minhu</th>\n",
       "      <th>module_maxhu</th>\n",
       "      <th>module_hv</th>\n",
       "      <th>pitch_u</th>\n",
       "      <th>pitch_v</th>\n",
       "    </tr>\n",
       "  </thead>\n",
       "  <tbody>\n",
       "    <tr>\n",
       "      <th>0</th>\n",
       "      <td>7</td>\n",
       "      <td>2</td>\n",
       "      <td>1</td>\n",
       "      <td>-65.7965</td>\n",
       "      <td>-5.17830</td>\n",
       "      <td>-1502.5</td>\n",
       "      <td>0.078459</td>\n",
       "      <td>-0.996917</td>\n",
       "      <td>0.0</td>\n",
       "      <td>-0.996917</td>\n",
       "      <td>...</td>\n",
       "      <td>0.0</td>\n",
       "      <td>0</td>\n",
       "      <td>0</td>\n",
       "      <td>-1</td>\n",
       "      <td>0.15</td>\n",
       "      <td>8.4</td>\n",
       "      <td>8.4</td>\n",
       "      <td>36</td>\n",
       "      <td>0.05</td>\n",
       "      <td>0.05625</td>\n",
       "    </tr>\n",
       "    <tr>\n",
       "      <th>1</th>\n",
       "      <td>7</td>\n",
       "      <td>2</td>\n",
       "      <td>2</td>\n",
       "      <td>-139.8510</td>\n",
       "      <td>-6.46568</td>\n",
       "      <td>-1502.0</td>\n",
       "      <td>0.046183</td>\n",
       "      <td>-0.998933</td>\n",
       "      <td>0.0</td>\n",
       "      <td>-0.998933</td>\n",
       "      <td>...</td>\n",
       "      <td>0.0</td>\n",
       "      <td>0</td>\n",
       "      <td>0</td>\n",
       "      <td>-1</td>\n",
       "      <td>0.15</td>\n",
       "      <td>8.4</td>\n",
       "      <td>8.4</td>\n",
       "      <td>36</td>\n",
       "      <td>0.05</td>\n",
       "      <td>0.05625</td>\n",
       "    </tr>\n",
       "    <tr>\n",
       "      <th>2</th>\n",
       "      <td>7</td>\n",
       "      <td>2</td>\n",
       "      <td>3</td>\n",
       "      <td>-138.6570</td>\n",
       "      <td>-19.34190</td>\n",
       "      <td>-1498.0</td>\n",
       "      <td>0.138156</td>\n",
       "      <td>-0.990410</td>\n",
       "      <td>0.0</td>\n",
       "      <td>-0.990410</td>\n",
       "      <td>...</td>\n",
       "      <td>0.0</td>\n",
       "      <td>0</td>\n",
       "      <td>0</td>\n",
       "      <td>-1</td>\n",
       "      <td>0.15</td>\n",
       "      <td>8.4</td>\n",
       "      <td>8.4</td>\n",
       "      <td>36</td>\n",
       "      <td>0.05</td>\n",
       "      <td>0.05625</td>\n",
       "    </tr>\n",
       "    <tr>\n",
       "      <th>3</th>\n",
       "      <td>7</td>\n",
       "      <td>2</td>\n",
       "      <td>4</td>\n",
       "      <td>-64.1764</td>\n",
       "      <td>-15.40740</td>\n",
       "      <td>-1498.0</td>\n",
       "      <td>0.233445</td>\n",
       "      <td>-0.972370</td>\n",
       "      <td>0.0</td>\n",
       "      <td>-0.972370</td>\n",
       "      <td>...</td>\n",
       "      <td>0.0</td>\n",
       "      <td>0</td>\n",
       "      <td>0</td>\n",
       "      <td>-1</td>\n",
       "      <td>0.15</td>\n",
       "      <td>8.4</td>\n",
       "      <td>8.4</td>\n",
       "      <td>36</td>\n",
       "      <td>0.05</td>\n",
       "      <td>0.05625</td>\n",
       "    </tr>\n",
       "  </tbody>\n",
       "</table>\n",
       "<p>4 rows × 21 columns</p>\n",
       "</div>"
      ],
      "text/plain": [
       "   volume_id  layer_id  module_id        cx        cy      cz    rot_xu  \\\n",
       "0          7         2          1  -65.7965  -5.17830 -1502.5  0.078459   \n",
       "1          7         2          2 -139.8510  -6.46568 -1502.0  0.046183   \n",
       "2          7         2          3 -138.6570 -19.34190 -1498.0  0.138156   \n",
       "3          7         2          4  -64.1764 -15.40740 -1498.0  0.233445   \n",
       "\n",
       "     rot_xv  rot_xw    rot_yu   ...     rot_yw  rot_zu  rot_zv  rot_zw  \\\n",
       "0 -0.996917     0.0 -0.996917   ...        0.0       0       0      -1   \n",
       "1 -0.998933     0.0 -0.998933   ...        0.0       0       0      -1   \n",
       "2 -0.990410     0.0 -0.990410   ...        0.0       0       0      -1   \n",
       "3 -0.972370     0.0 -0.972370   ...        0.0       0       0      -1   \n",
       "\n",
       "   module_t  module_minhu  module_maxhu  module_hv  pitch_u  pitch_v  \n",
       "0      0.15           8.4           8.4         36     0.05  0.05625  \n",
       "1      0.15           8.4           8.4         36     0.05  0.05625  \n",
       "2      0.15           8.4           8.4         36     0.05  0.05625  \n",
       "3      0.15           8.4           8.4         36     0.05  0.05625  \n",
       "\n",
       "[4 rows x 21 columns]"
      ]
     },
     "execution_count": 8,
     "metadata": {},
     "output_type": "execute_result"
    }
   ],
   "source": [
    "print(detectors_df.shape)\n",
    "detectors_df.head(4)"
   ]
  },
  {
   "cell_type": "code",
   "execution_count": 9,
   "metadata": {
    "collapsed": true
   },
   "outputs": [],
   "source": [
    "submission_df = pd.read_csv('datasets/unarch/sample_submission.csv')"
   ]
  },
  {
   "cell_type": "code",
   "execution_count": 10,
   "metadata": {},
   "outputs": [
    {
     "name": "stdout",
     "output_type": "stream",
     "text": [
      "(13741466, 3)\n"
     ]
    },
    {
     "data": {
      "text/html": [
       "<div>\n",
       "<style>\n",
       "    .dataframe thead tr:only-child th {\n",
       "        text-align: right;\n",
       "    }\n",
       "\n",
       "    .dataframe thead th {\n",
       "        text-align: left;\n",
       "    }\n",
       "\n",
       "    .dataframe tbody tr th {\n",
       "        vertical-align: top;\n",
       "    }\n",
       "</style>\n",
       "<table border=\"1\" class=\"dataframe\">\n",
       "  <thead>\n",
       "    <tr style=\"text-align: right;\">\n",
       "      <th></th>\n",
       "      <th>event_id</th>\n",
       "      <th>hit_id</th>\n",
       "      <th>track_id</th>\n",
       "    </tr>\n",
       "  </thead>\n",
       "  <tbody>\n",
       "    <tr>\n",
       "      <th>0</th>\n",
       "      <td>0</td>\n",
       "      <td>1</td>\n",
       "      <td>0</td>\n",
       "    </tr>\n",
       "    <tr>\n",
       "      <th>1</th>\n",
       "      <td>0</td>\n",
       "      <td>2</td>\n",
       "      <td>0</td>\n",
       "    </tr>\n",
       "    <tr>\n",
       "      <th>2</th>\n",
       "      <td>0</td>\n",
       "      <td>3</td>\n",
       "      <td>0</td>\n",
       "    </tr>\n",
       "    <tr>\n",
       "      <th>3</th>\n",
       "      <td>0</td>\n",
       "      <td>4</td>\n",
       "      <td>0</td>\n",
       "    </tr>\n",
       "  </tbody>\n",
       "</table>\n",
       "</div>"
      ],
      "text/plain": [
       "   event_id  hit_id  track_id\n",
       "0         0       1         0\n",
       "1         0       2         0\n",
       "2         0       3         0\n",
       "3         0       4         0"
      ]
     },
     "execution_count": 10,
     "metadata": {},
     "output_type": "execute_result"
    }
   ],
   "source": [
    "print(submission_df.shape)\n",
    "submission_df.head(4)"
   ]
  },
  {
   "cell_type": "code",
   "execution_count": 11,
   "metadata": {},
   "outputs": [
    {
     "name": "stdout",
     "output_type": "stream",
     "text": [
      "['event000001015-truth.csv', 'event000001022-cells.csv', 'event000001056-cells.csv', 'event000001043-particles.csv']\n",
      "000001015\n",
      "000001022\n",
      "000001056\n",
      "000001043\n",
      "000001061\n",
      "000001035\n",
      "000001026\n",
      "000001004\n",
      "000001081\n",
      "000001076\n",
      "000001008\n",
      "000001057\n",
      "000001066\n",
      "000001019\n",
      "000001083\n",
      "000001053\n",
      "000001090\n",
      "000001001\n",
      "000001074\n",
      "000001085\n"
     ]
    }
   ],
   "source": [
    "train_dataset_dir = 'datasets/unarch/train_100_events'\n",
    "dataset_filenames = os.listdir(train_dataset_dir)\n",
    "print(dataset_filenames[:4])\n",
    "event_ids = []\n",
    "event_filenames = {}\n",
    "for filename in dataset_filenames[:20]:\n",
    "    event_id = filename[5:14]\n",
    "    print(event_id)\n",
    "    if event_id not in event_ids:\n",
    "        event_ids.append(event_id)\n",
    "    if event_id not in event_filenames:\n",
    "        event_filenames[event_id] = [filename]\n",
    "    else:\n",
    "        event_filenames[event_id].append(filename)"
   ]
  },
  {
   "cell_type": "code",
   "execution_count": 19,
   "metadata": {
    "collapsed": true
   },
   "outputs": [],
   "source": [
    "def random_sublist_select(original_list, sublist_size):\n",
    "    return [original_list[i] for i in random.sample(range(len(original_list)), sublist_size)]"
   ]
  },
  {
   "cell_type": "code",
   "execution_count": 20,
   "metadata": {
    "collapsed": true
   },
   "outputs": [],
   "source": [
    "def offset_sublist_select(original_list, sublist_size, offset):\n",
    "    return original_list[offset:offset + sublist_size]"
   ]
  },
  {
   "cell_type": "code",
   "execution_count": 21,
   "metadata": {
    "collapsed": true
   },
   "outputs": [],
   "source": [
    "def select_random_indexses_subset(size, subset_size):\n",
    "    return random.sample(tuple(range(size)), subset_size) "
   ]
  },
  {
   "cell_type": "code",
   "execution_count": 22,
   "metadata": {
    "collapsed": true
   },
   "outputs": [],
   "source": [
    "def select_offset_indexses_subset(size, subset_size, offset):\n",
    "    return tuple(range(size))[offset:offset + subset_size]"
   ]
  },
  {
   "cell_type": "code",
   "execution_count": 25,
   "metadata": {
    "collapsed": true
   },
   "outputs": [],
   "source": [
    "def read_dataset_filenames_from_dir(path_to_datasets_dir):\n",
    "    dataset_filenames = os.listdir(path_to_datasets_dir)\n",
    "    event_filenames = {}\n",
    "    for filename in dataset_filenames:\n",
    "        event_id = filename[5:14]\n",
    "        if event_id not in event_filenames:\n",
    "            event_filenames[event_id] = [filename]\n",
    "        else:\n",
    "            event_filenames[event_id].append(filename)\n",
    "    return event_filenames"
   ]
  },
  {
   "cell_type": "code",
   "execution_count": 30,
   "metadata": {
    "collapsed": true
   },
   "outputs": [],
   "source": [
    "def select_events(indexes_list, event_names):\n",
    "    return tuple(event_names[i] for i in indexes_list)"
   ]
  },
  {
   "cell_type": "code",
   "execution_count": 31,
   "metadata": {
    "collapsed": true
   },
   "outputs": [],
   "source": [
    "def random_events_select(event_names, subset_size):\n",
    "    event_names_len = len(event_names)\n",
    "    indexes = select_random_indexses_subset(event_names_len, subset_size)\n",
    "    return select_events(indexes, event_names)"
   ]
  },
  {
   "cell_type": "code",
   "execution_count": 32,
   "metadata": {
    "collapsed": true
   },
   "outputs": [],
   "source": [
    "def offset_events_select(event_names, subset_size, offset):\n",
    "    event_names_len = len(event_names)\n",
    "    indexes = select_offset_indexses_subset(event_names_len, subset_size, offset)\n",
    "    return select_events(indexes, event_names)"
   ]
  },
  {
   "cell_type": "code",
   "execution_count": 36,
   "metadata": {
    "collapsed": true
   },
   "outputs": [],
   "source": [
    "def read_dataset_filenames_random(directory_list, sample_size=0):\n",
    "    event_grouped_dataset_filenames = {}\n",
    "    for directory in directory_list:\n",
    "        dataset_filenames = read_dataset_filenames_from_dir(directory)\n",
    "        if sample_size > 0:\n",
    "            event_names = random_events_select(tuple(dataset_filenames), sample_size)\n",
    "            dataset_filenames = {event_name: dataset_filenames[event_name] for event_name in event_names}\n",
    "        event_grouped_dataset_filenames.update(dataset_filenames)\n",
    "    return event_grouped_dataset_filenames    "
   ]
  },
  {
   "cell_type": "code",
   "execution_count": 37,
   "metadata": {
    "collapsed": true
   },
   "outputs": [],
   "source": [
    "def read_dataset_filenames_offset(directory_list, sample_size=0, offset=0):\n",
    "    event_grouped_dataset_filenames = {}\n",
    "    for directory in directory_list:\n",
    "        dataset_filenames = read_dataset_filenames_from_dir(directory)\n",
    "        if sample_size > 0:\n",
    "            event_names = offset_events_select(tuple(dataset_filenames), sample_size, offset)\n",
    "            dataset_filenames = {event_name: dataset_filenames[event_name] for event_name in event_names}\n",
    "        event_grouped_dataset_filenames.update(dataset_filenames)\n",
    "    return event_grouped_dataset_filenames  "
   ]
  },
  {
   "cell_type": "code",
   "execution_count": 38,
   "metadata": {},
   "outputs": [],
   "source": [
    "event_grouped_dataset_filenames = read_dataset_filenames_random(['datasets/unarch/train_1/'], 20)"
   ]
  },
  {
   "cell_type": "code",
   "execution_count": 39,
   "metadata": {},
   "outputs": [
    {
     "data": {
      "text/plain": [
       "{'000001018': ['event000001018-hits.csv',\n",
       "  'event000001018-cells.csv',\n",
       "  'event000001018-truth.csv',\n",
       "  'event000001018-particles.csv'],\n",
       " '000001052': ['event000001052-truth.csv',\n",
       "  'event000001052-particles.csv',\n",
       "  'event000001052-cells.csv',\n",
       "  'event000001052-hits.csv'],\n",
       " '000001142': ['event000001142-cells.csv',\n",
       "  'event000001142-particles.csv',\n",
       "  'event000001142-truth.csv',\n",
       "  'event000001142-hits.csv'],\n",
       " '000001215': ['event000001215-truth.csv',\n",
       "  'event000001215-cells.csv',\n",
       "  'event000001215-hits.csv',\n",
       "  'event000001215-particles.csv'],\n",
       " '000001241': ['event000001241-hits.csv',\n",
       "  'event000001241-particles.csv',\n",
       "  'event000001241-cells.csv',\n",
       "  'event000001241-truth.csv'],\n",
       " '000001395': ['event000001395-cells.csv',\n",
       "  'event000001395-truth.csv',\n",
       "  'event000001395-particles.csv',\n",
       "  'event000001395-hits.csv'],\n",
       " '000001472': ['event000001472-particles.csv',\n",
       "  'event000001472-cells.csv',\n",
       "  'event000001472-truth.csv',\n",
       "  'event000001472-hits.csv'],\n",
       " '000001540': ['event000001540-particles.csv',\n",
       "  'event000001540-truth.csv',\n",
       "  'event000001540-hits.csv',\n",
       "  'event000001540-cells.csv'],\n",
       " '000001563': ['event000001563-truth.csv',\n",
       "  'event000001563-cells.csv',\n",
       "  'event000001563-particles.csv',\n",
       "  'event000001563-hits.csv'],\n",
       " '000001629': ['event000001629-cells.csv',\n",
       "  'event000001629-particles.csv',\n",
       "  'event000001629-hits.csv',\n",
       "  'event000001629-truth.csv'],\n",
       " '000001878': ['event000001878-cells.csv',\n",
       "  'event000001878-hits.csv',\n",
       "  'event000001878-truth.csv',\n",
       "  'event000001878-particles.csv'],\n",
       " '000001931': ['event000001931-truth.csv',\n",
       "  'event000001931-particles.csv',\n",
       "  'event000001931-hits.csv',\n",
       "  'event000001931-cells.csv'],\n",
       " '000002116': ['event000002116-particles.csv',\n",
       "  'event000002116-hits.csv',\n",
       "  'event000002116-cells.csv',\n",
       "  'event000002116-truth.csv'],\n",
       " '000002170': ['event000002170-cells.csv',\n",
       "  'event000002170-truth.csv',\n",
       "  'event000002170-particles.csv',\n",
       "  'event000002170-hits.csv'],\n",
       " '000002200': ['event000002200-truth.csv',\n",
       "  'event000002200-hits.csv',\n",
       "  'event000002200-particles.csv',\n",
       "  'event000002200-cells.csv'],\n",
       " '000002257': ['event000002257-particles.csv',\n",
       "  'event000002257-cells.csv',\n",
       "  'event000002257-truth.csv',\n",
       "  'event000002257-hits.csv'],\n",
       " '000002260': ['event000002260-particles.csv',\n",
       "  'event000002260-cells.csv',\n",
       "  'event000002260-hits.csv',\n",
       "  'event000002260-truth.csv'],\n",
       " '000002281': ['event000002281-cells.csv',\n",
       "  'event000002281-truth.csv',\n",
       "  'event000002281-particles.csv',\n",
       "  'event000002281-hits.csv'],\n",
       " '000002623': ['event000002623-particles.csv',\n",
       "  'event000002623-truth.csv',\n",
       "  'event000002623-cells.csv',\n",
       "  'event000002623-hits.csv'],\n",
       " '000002777': ['event000002777-particles.csv',\n",
       "  'event000002777-cells.csv',\n",
       "  'event000002777-truth.csv',\n",
       "  'event000002777-hits.csv']}"
      ]
     },
     "execution_count": 39,
     "metadata": {},
     "output_type": "execute_result"
    }
   ],
   "source": [
    "event_grouped_dataset_filenames"
   ]
  },
  {
   "cell_type": "code",
   "execution_count": 40,
   "metadata": {
    "collapsed": true
   },
   "outputs": [],
   "source": [
    "event_grouped_dataset_filenames_1 = read_dataset_filenames_offset(['datasets/unarch/train_1/'], 20)"
   ]
  },
  {
   "cell_type": "code",
   "execution_count": 41,
   "metadata": {},
   "outputs": [
    {
     "data": {
      "text/plain": [
       "{'000001015': ['event000001015-truth.csv',\n",
       "  'event000001015-particles.csv',\n",
       "  'event000001015-cells.csv',\n",
       "  'event000001015-hits.csv'],\n",
       " '000001127': ['event000001127-particles.csv',\n",
       "  'event000001127-cells.csv',\n",
       "  'event000001127-hits.csv',\n",
       "  'event000001127-truth.csv'],\n",
       " '000001191': ['event000001191-cells.csv',\n",
       "  'event000001191-hits.csv',\n",
       "  'event000001191-particles.csv',\n",
       "  'event000001191-truth.csv'],\n",
       " '000001287': ['event000001287-truth.csv',\n",
       "  'event000001287-hits.csv',\n",
       "  'event000001287-particles.csv',\n",
       "  'event000001287-cells.csv'],\n",
       " '000001343': ['event000001343-hits.csv',\n",
       "  'event000001343-cells.csv',\n",
       "  'event000001343-truth.csv',\n",
       "  'event000001343-particles.csv'],\n",
       " '000001384': ['event000001384-truth.csv',\n",
       "  'event000001384-particles.csv',\n",
       "  'event000001384-cells.csv',\n",
       "  'event000001384-hits.csv'],\n",
       " '000001399': ['event000001399-truth.csv',\n",
       "  'event000001399-particles.csv',\n",
       "  'event000001399-cells.csv',\n",
       "  'event000001399-hits.csv'],\n",
       " '000001404': ['event000001404-hits.csv',\n",
       "  'event000001404-particles.csv',\n",
       "  'event000001404-truth.csv',\n",
       "  'event000001404-cells.csv'],\n",
       " '000001488': ['event000001488-hits.csv',\n",
       "  'event000001488-particles.csv',\n",
       "  'event000001488-cells.csv',\n",
       "  'event000001488-truth.csv'],\n",
       " '000001553': ['event000001553-hits.csv',\n",
       "  'event000001553-cells.csv',\n",
       "  'event000001553-particles.csv',\n",
       "  'event000001553-truth.csv'],\n",
       " '000001591': ['event000001591-hits.csv',\n",
       "  'event000001591-particles.csv',\n",
       "  'event000001591-truth.csv',\n",
       "  'event000001591-cells.csv'],\n",
       " '000002039': ['event000002039-cells.csv',\n",
       "  'event000002039-particles.csv',\n",
       "  'event000002039-hits.csv',\n",
       "  'event000002039-truth.csv'],\n",
       " '000002048': ['event000002048-truth.csv',\n",
       "  'event000002048-hits.csv',\n",
       "  'event000002048-cells.csv',\n",
       "  'event000002048-particles.csv'],\n",
       " '000002058': ['event000002058-particles.csv',\n",
       "  'event000002058-truth.csv',\n",
       "  'event000002058-cells.csv',\n",
       "  'event000002058-hits.csv'],\n",
       " '000002134': ['event000002134-cells.csv',\n",
       "  'event000002134-hits.csv',\n",
       "  'event000002134-particles.csv',\n",
       "  'event000002134-truth.csv'],\n",
       " '000002146': ['event000002146-particles.csv',\n",
       "  'event000002146-cells.csv',\n",
       "  'event000002146-truth.csv',\n",
       "  'event000002146-hits.csv'],\n",
       " '000002283': ['event000002283-particles.csv',\n",
       "  'event000002283-truth.csv',\n",
       "  'event000002283-cells.csv',\n",
       "  'event000002283-hits.csv'],\n",
       " '000002312': ['event000002312-particles.csv',\n",
       "  'event000002312-cells.csv',\n",
       "  'event000002312-truth.csv',\n",
       "  'event000002312-hits.csv'],\n",
       " '000002668': ['event000002668-cells.csv',\n",
       "  'event000002668-hits.csv',\n",
       "  'event000002668-truth.csv',\n",
       "  'event000002668-particles.csv'],\n",
       " '000002761': ['event000002761-particles.csv',\n",
       "  'event000002761-hits.csv',\n",
       "  'event000002761-cells.csv',\n",
       "  'event000002761-truth.csv']}"
      ]
     },
     "execution_count": 41,
     "metadata": {},
     "output_type": "execute_result"
    }
   ],
   "source": [
    "event_grouped_dataset_filenames_1"
   ]
  },
  {
   "cell_type": "code",
   "execution_count": 14,
   "metadata": {
    "collapsed": true
   },
   "outputs": [],
   "source": [
    "def create_event_df(event_id, particles_df, truth_df, cells_df, hits_df):\n",
    "    #return pd.merge(truth_df, hits_df, on='hit_id')\n",
    "    truth_hits_df = pd.merge(truth_df, hits_df, on='hit_id')\n",
    "    particles_truth_hits_df = pd.merge(particles_df, truth_hits_df, on='particle_id', how='right')\n",
    "    #return particles_truth_hits_df\n",
    "    return pd.merge(cells_df, particles_truth_hits_df, on='hit_id', how='outer')"
   ]
  },
  {
   "cell_type": "code",
   "execution_count": 15,
   "metadata": {},
   "outputs": [
    {
     "data": {
      "text/plain": [
       "True"
      ]
     },
     "execution_count": 15,
     "metadata": {},
     "output_type": "execute_result"
    }
   ],
   "source": [
    "all(hits_df['hit_id'] == truth_df['hit_id'])"
   ]
  },
  {
   "cell_type": "code",
   "execution_count": 16,
   "metadata": {
    "collapsed": true
   },
   "outputs": [],
   "source": [
    "event_df = create_event_df(0, particles_df, truth_df, cells_df, hits_df)"
   ]
  },
  {
   "cell_type": "code",
   "execution_count": 17,
   "metadata": {},
   "outputs": [
    {
     "data": {
      "text/plain": [
       "(664996, 26)"
      ]
     },
     "execution_count": 17,
     "metadata": {},
     "output_type": "execute_result"
    }
   ],
   "source": [
    "event_df.shape"
   ]
  },
  {
   "cell_type": "code",
   "execution_count": null,
   "metadata": {
    "collapsed": true
   },
   "outputs": [],
   "source": []
  }
 ],
 "metadata": {
  "kernelspec": {
   "display_name": "Python 3",
   "language": "python",
   "name": "python3"
  },
  "language_info": {
   "codemirror_mode": {
    "name": "ipython",
    "version": 3
   },
   "file_extension": ".py",
   "mimetype": "text/x-python",
   "name": "python",
   "nbconvert_exporter": "python",
   "pygments_lexer": "ipython3",
   "version": "3.6.3"
  }
 },
 "nbformat": 4,
 "nbformat_minor": 2
}
